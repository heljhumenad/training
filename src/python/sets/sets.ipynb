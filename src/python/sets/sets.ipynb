{
 "cells": [
  {
   "cell_type": "code",
   "execution_count": null,
   "id": "007d1f26-89e6-4359-a3f6-b432e0843fdc",
   "metadata": {},
   "outputs": [],
   "source": [
    "'''\n",
    "    Mutable Data Collection - you can changes the format of data and its own value of sets\n",
    "    \n",
    "    Collection Sets denote with two curly braces that start with like this\n",
    "    {'1', '2', '3'} you can add data to a sets its mutable but you can't\n",
    "    access its index like square brackets calling of index number start from 0 like this\n",
    "    [index_number] and sets can't accept duplicate value if two sets will union \n",
    "    each other all number and data in the new sets will be unique and doesn't duplicated\n",
    "    \n",
    "'''"
   ]
  },
  {
   "cell_type": "code",
   "execution_count": 9,
   "id": "e7b8eb0f-5ad8-4796-9e47-c2c0e210b046",
   "metadata": {},
   "outputs": [
    {
     "name": "stdout",
     "output_type": "stream",
     "text": [
      "Sets Data\n",
      "{1, 2, 3, 4, 5, 6}\n",
      "{5, 6, 7, 8, 9, 10}\n",
      "Union Sets\n",
      "{1, 2, 3, 4, 5, 6, 7, 8, 9, 10}\n",
      "Differences of Sets\n",
      "{1, 2, 3, 4}\n",
      "Intersections of Sets\n",
      "{5, 6}\n"
     ]
    }
   ],
   "source": [
    "list_of_sets = {1,2,3,4,5,6}\n",
    "list_of_sets2 = {5,6,7,8,9,10}\n",
    "\n",
    "print(\"Sets Data\")\n",
    "print(list_of_sets)\n",
    "print(list_of_sets2)\n",
    "\n",
    "print(\"Union Sets\")\n",
    "print(list_of_sets.union(list_of_sets2))\n",
    "print(\"Differences of Sets\")\n",
    "print(list_of_sets.difference(list_of_sets2))\n",
    "print(\"Intersections of Sets\")\n",
    "print(list_of_sets.intersection(list_of_sets2))"
   ]
  },
  {
   "cell_type": "code",
   "execution_count": 2,
   "id": "58ba59d1-9edc-4ad6-9959-370dd547154a",
   "metadata": {},
   "outputs": [
    {
     "data": {
      "text/plain": [
       "['__and__',\n",
       " '__class__',\n",
       " '__class_getitem__',\n",
       " '__contains__',\n",
       " '__delattr__',\n",
       " '__dir__',\n",
       " '__doc__',\n",
       " '__eq__',\n",
       " '__format__',\n",
       " '__ge__',\n",
       " '__getattribute__',\n",
       " '__gt__',\n",
       " '__hash__',\n",
       " '__iand__',\n",
       " '__init__',\n",
       " '__init_subclass__',\n",
       " '__ior__',\n",
       " '__isub__',\n",
       " '__iter__',\n",
       " '__ixor__',\n",
       " '__le__',\n",
       " '__len__',\n",
       " '__lt__',\n",
       " '__ne__',\n",
       " '__new__',\n",
       " '__or__',\n",
       " '__rand__',\n",
       " '__reduce__',\n",
       " '__reduce_ex__',\n",
       " '__repr__',\n",
       " '__ror__',\n",
       " '__rsub__',\n",
       " '__rxor__',\n",
       " '__setattr__',\n",
       " '__sizeof__',\n",
       " '__str__',\n",
       " '__sub__',\n",
       " '__subclasshook__',\n",
       " '__xor__',\n",
       " 'add',\n",
       " 'clear',\n",
       " 'copy',\n",
       " 'difference',\n",
       " 'difference_update',\n",
       " 'discard',\n",
       " 'intersection',\n",
       " 'intersection_update',\n",
       " 'isdisjoint',\n",
       " 'issubset',\n",
       " 'issuperset',\n",
       " 'pop',\n",
       " 'remove',\n",
       " 'symmetric_difference',\n",
       " 'symmetric_difference_update',\n",
       " 'union',\n",
       " 'update']"
      ]
     },
     "execution_count": 2,
     "metadata": {},
     "output_type": "execute_result"
    }
   ],
   "source": [
    "dir(list_of_sets) # List of sets methods and properties"
   ]
  },
  {
   "cell_type": "code",
   "execution_count": 11,
   "id": "c1275633-b3f2-4e24-a342-d935750088fc",
   "metadata": {},
   "outputs": [
    {
     "name": "stdout",
     "output_type": "stream",
     "text": [
      "Adding Sets Data @ the EOL\n",
      "{1, 2, 3, 4, 5, 6, 12}\n"
     ]
    }
   ],
   "source": [
    "list_of_sets.add(12) # adding the collection data of the sets will be o(1)\n",
    "                     # constant adding because we just add the sets in the end of sets\n",
    "print(\"Adding Sets Data @ the EOL\")\n",
    "print(list_of_sets)"
   ]
  },
  {
   "cell_type": "code",
   "execution_count": null,
   "id": "dc2dbf0f-1366-4ead-a71d-73e141f4b913",
   "metadata": {},
   "outputs": [],
   "source": []
  }
 ],
 "metadata": {
  "kernelspec": {
   "display_name": "Python 3",
   "language": "python",
   "name": "python3"
  },
  "language_info": {
   "codemirror_mode": {
    "name": "ipython",
    "version": 3
   },
   "file_extension": ".py",
   "mimetype": "text/x-python",
   "name": "python",
   "nbconvert_exporter": "python",
   "pygments_lexer": "ipython3",
   "version": "3.9.3"
  }
 },
 "nbformat": 4,
 "nbformat_minor": 5
}
