{
 "cells": [
  {
   "cell_type": "code",
   "execution_count": null,
   "id": "aec49b6f-64ed-431f-b481-aec4f8f4ee87",
   "metadata": {},
   "outputs": [],
   "source": [
    "\"\"\"\n",
    "    For Loop is an looping statements that can traverse list, strings, tuple, sets,\n",
    "    it will execute the  statement multiple times until it will met its own conditions\n",
    "    or will be outputed into False.\n",
    "\"\"\""
   ]
  },
  {
   "cell_type": "code",
   "execution_count": null,
   "id": "26dd74cb-b646-49e4-a315-a695b50bea07",
   "metadata": {},
   "outputs": [],
   "source": [
    "for i in range(10): # range is a method repsenents unmutable sequences of number\n",
    "    print(i) # sequence of number i = 0,1,2,3,4,5,6,7,8,9"
   ]
  },
  {
   "cell_type": "code",
   "execution_count": null,
   "id": "e09ea4ce-0271-44ba-8963-1cb2df60032c",
   "metadata": {},
   "outputs": [],
   "source": [
    "list_numbers = list(range(10)) # range will return an interger value \n",
    "for i in list_numbers:\n",
    "    if list_numbers[i] % 2 == 0:\n",
    "        print(\"Odd\", i)\n",
    "    else:\n",
    "        print(\"Even\", i)\n",
    "    # print(list_numbers[i])"
   ]
  },
  {
   "cell_type": "code",
   "execution_count": null,
   "id": "131d6a80-a5bb-4d51-a5fb-906d7e8107e1",
   "metadata": {},
   "outputs": [],
   "source": [
    "software = ['ccleaner', 'adobe', 'excel', 'recovery']\n",
    "used = ['utilities', 'design', 'office', 'data']\n",
    "for sf in software:\n",
    "    for us in used:\n",
    "        print(sf, us)"
   ]
  },
  {
   "cell_type": "code",
   "execution_count": null,
   "id": "bfeb8ed7-b3be-4d74-8e12-3e8600561aa8",
   "metadata": {},
   "outputs": [],
   "source": [
    "list_number = [10,2,4,10,2]\n",
    "total = 2 # if the aritmethic is multiplication start with 1\n",
    "          # if addition you can start it with 0\n",
    "for i in list_number:\n",
    "    #total = total + i\n",
    "    # total += i\n",
    "    total *= i\n",
    "print(total)"
   ]
  },
  {
   "cell_type": "code",
   "execution_count": null,
   "id": "3c0a07f3-df43-4c61-a4b6-a6acfacfd8c1",
   "metadata": {},
   "outputs": [],
   "source": [
    "# multiple of 3\n",
    "# sum\n",
    "total = 0\n",
    "for i in range(10):\n",
    "    if i % 3 == 0:\n",
    "        total +=i\n",
    "print(total)"
   ]
  },
  {
   "cell_type": "code",
   "execution_count": null,
   "id": "ba25d0e1-a5cb-4528-bdea-18281b5a545a",
   "metadata": {},
   "outputs": [],
   "source": [
    "# multiple of 3 and 5 \n",
    "# less than 100\n",
    "total = 0\n",
    "for i in range(1, 100):\n",
    "    if i % 3 == 0 or i % 5 == 0:\n",
    "        total += i\n",
    "print(total)\n",
    "\n"
   ]
  },
  {
   "cell_type": "code",
   "execution_count": null,
   "id": "569b4484-7136-44bf-b317-6afacba20280",
   "metadata": {},
   "outputs": [],
   "source": [
    "print(list(range(1,100)))"
   ]
  },
  {
   "cell_type": "code",
   "execution_count": null,
   "id": "782204e0-2c84-4af9-8a6c-ad15dcb85bc0",
   "metadata": {},
   "outputs": [],
   "source": [
    "s = (1,2,3)\n",
    "print(dir(s))"
   ]
  },
  {
   "cell_type": "code",
   "execution_count": null,
   "id": "c8a23d34-73a1-4171-9cef-ee2b9e1b59aa",
   "metadata": {},
   "outputs": [],
   "source": [
    "\"\"\"Task\n",
    "Given an integer, , and space-separated integers as input, create a tuple, ,\n",
    "of those integers. Then compute and print the result of\n",
    "\n",
    ".\n",
    "\n",
    "Note: hash() is one of the functions in the __builtins__ module, so it need not be imported.\n",
    "\n",
    "Input Format\n",
    "\n",
    "The first line contains an integer,\n",
    ", denoting the number of elements in the tuple.\n",
    "The second line contains space-separated integers describing the elements in tuple .\n",
    "\"\"\""
   ]
  },
  {
   "cell_type": "code",
   "execution_count": 36,
   "id": "dc053dbc-9858-48cc-b63d-9ae36092a972",
   "metadata": {},
   "outputs": [
    {
     "name": "stdin",
     "output_type": "stream",
     "text": [
      " 2\n",
      " 2\n"
     ]
    },
    {
     "name": "stdout",
     "output_type": "stream",
     "text": [
      "6909455589863252355\n"
     ]
    }
   ],
   "source": []
  },
  {
   "cell_type": "code",
   "execution_count": null,
   "id": "28412c01-2034-44db-83b3-dabbe96aa021",
   "metadata": {},
   "outputs": [],
   "source": []
  }
 ],
 "metadata": {
  "kernelspec": {
   "display_name": "Python 3",
   "language": "python",
   "name": "python3"
  },
  "language_info": {
   "codemirror_mode": {
    "name": "ipython",
    "version": 3
   },
   "file_extension": ".py",
   "mimetype": "text/x-python",
   "name": "python",
   "nbconvert_exporter": "python",
   "pygments_lexer": "ipython3",
   "version": "3.9.3"
  }
 },
 "nbformat": 4,
 "nbformat_minor": 5
}
