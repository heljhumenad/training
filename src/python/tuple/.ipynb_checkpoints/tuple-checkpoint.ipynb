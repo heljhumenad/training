{
 "cells": [
  {
   "cell_type": "code",
   "execution_count": null,
   "id": "c683d5da-37e9-4823-b5c5-89beeac72352",
   "metadata": {},
   "outputs": [],
   "source": [
    "'''\n",
    "    Tuple is an collection of data which like an list but denote with parenthesis\n",
    "    `(1,2,3,4,5)` the caveat of tuple once you build it you can't add it but you can\n",
    "    index its data but you can't alter its index data or assign in new value\n",
    "     its Immutable kind of collection of data\n",
    "     \n",
    "    Basically tuple is much more faster than list because of its nature as an \n",
    "    immutable kind of collection of data its run in 0(1) and 0(1) constant time and space\n",
    "    in adding and indexing its  data and 0(n) in traversing it\n",
    "    \n",
    "    Method that tuple has and much popular method was `count` and `index`\n",
    "'''"
   ]
  },
  {
   "cell_type": "code",
   "execution_count": 7,
   "id": "40316825-b77c-4463-957f-d65d0edfa6fd",
   "metadata": {},
   "outputs": [
    {
     "name": "stdout",
     "output_type": "stream",
     "text": [
      "(1, 2, 3, 4, 5, 6)\n",
      "<class 'tuple'>\n",
      "['__add__', '__class__', '__class_getitem__', '__contains__', '__delattr__', '__dir__', '__doc__', '__eq__', '__format__', '__ge__', '__getattribute__', '__getitem__', '__getnewargs__', '__gt__', '__hash__', '__init__', '__init_subclass__', '__iter__', '__le__', '__len__', '__lt__', '__mul__', '__ne__', '__new__', '__reduce__', '__reduce_ex__', '__repr__', '__rmul__', '__setattr__', '__sizeof__', '__str__', '__subclasshook__', 'count', 'index']\n"
     ]
    }
   ],
   "source": [
    "\n",
    "# Declaring an tuple of data\n",
    "tuple_of_number = (1,2,3,4,5,6)\n",
    "\n",
    "# Print of Tuple\n",
    "print(tuple_of_number)\n",
    "\n",
    "# Print the type of tuple\n",
    "print(type(tuple_of_number))\n",
    "\n",
    "# Print the method and functionality of tuple\n",
    "print(dir(tuple_of_number))"
   ]
  },
  {
   "cell_type": "code",
   "execution_count": null,
   "id": "f4745c80-b53a-404a-93ee-51b7ad4e2fd1",
   "metadata": {},
   "outputs": [],
   "source": []
  }
 ],
 "metadata": {
  "kernelspec": {
   "display_name": "Python 3",
   "language": "python",
   "name": "python3"
  },
  "language_info": {
   "codemirror_mode": {
    "name": "ipython",
    "version": 3
   },
   "file_extension": ".py",
   "mimetype": "text/x-python",
   "name": "python",
   "nbconvert_exporter": "python",
   "pygments_lexer": "ipython3",
   "version": "3.9.2"
  }
 },
 "nbformat": 4,
 "nbformat_minor": 5
}
