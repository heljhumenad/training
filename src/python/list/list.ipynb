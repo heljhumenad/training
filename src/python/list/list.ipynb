{
 "cells": [
  {
   "cell_type": "code",
   "execution_count": 68,
   "id": "64862f82-16dc-449e-a567-354cef0349da",
   "metadata": {},
   "outputs": [
    {
     "name": "stdout",
     "output_type": "stream",
     "text": [
      "0\n",
      "12\n",
      "34\n",
      "56\n",
      "78\n",
      "9"
     ]
    }
   ],
   "source": [
    "name = [] # empty list\n",
    "\n",
    "for i in range(10):\n",
    "    name.append(i) # adding the 10 number into list\n",
    "    if name[i] % 2 == 0: # check the number if even\n",
    "        print(i, end=\"\\n\")\n",
    "    elif name[i] % 2 ==1: # check the number if odd\n",
    "        print(i, end=\"\")"
   ]
  },
  {
   "cell_type": "code",
   "execution_count": 80,
   "id": "d3095c66-8216-48bc-8eba-edc896f1d819",
   "metadata": {},
   "outputs": [
    {
     "name": "stdout",
     "output_type": "stream",
     "text": [
      "6\n",
      "[3, 4, 5, 6]\n",
      "[4]\n",
      "[3]\n",
      "6\n",
      "1\n"
     ]
    }
   ],
   "source": [
    "# List Slice\n",
    "\n",
    "#name[:3] # get first  list value from index 0\n",
    "# name[0-first]\n",
    "print(name[-1]) # get the last value from index -1\n",
    "print(name[:]) # print all value of list from zero to last nth index\n",
    "print(name[1:2]) # print the value of list from start to nth value\n",
    "print(name[:-3])# print the value of the list from 0 to hop 3 backward of last nth index\n",
    "print(name.pop())\n",
    "print(name.count(4)) # count method use to count how many existence of certain value of the list"
   ]
  },
  {
   "cell_type": "code",
   "execution_count": 76,
   "id": "818eeaab-9540-4acc-837a-e3ab1d62a0bf",
   "metadata": {},
   "outputs": [
    {
     "name": "stdout",
     "output_type": "stream",
     "text": [
      "7\n",
      "None\n"
     ]
    }
   ],
   "source": [
    "print(name.__len__()) # print the length of the list\n",
    "print(name.sort()) # sort the list"
   ]
  },
  {
   "cell_type": "code",
   "execution_count": 52,
   "id": "e082844f-15fe-4ee5-a6d7-ff9a2333eaaf",
   "metadata": {},
   "outputs": [
    {
     "name": "stdout",
     "output_type": "stream",
     "text": [
      "['__add__', '__class__', '__class_getitem__', '__contains__', '__delattr__', '__delitem__', '__dir__', '__doc__', '__eq__', '__format__', '__ge__', '__getattribute__', '__getitem__', '__gt__', '__hash__', '__iadd__', '__imul__', '__init__', '__init_subclass__', '__iter__', '__le__', '__len__', '__lt__', '__mul__', '__ne__', '__new__', '__reduce__', '__reduce_ex__', '__repr__', '__reversed__', '__rmul__', '__setattr__', '__setitem__', '__sizeof__', '__str__', '__subclasshook__', 'append', 'clear', 'copy', 'count', 'extend', 'index', 'insert', 'pop', 'remove', 'reverse', 'sort']\n"
     ]
    }
   ],
   "source": [
    "print(dir(name))"
   ]
  },
  {
   "cell_type": "code",
   "execution_count": 102,
   "id": "ab3718ef-cab3-46e4-bc52-6f00d056e81c",
   "metadata": {},
   "outputs": [
    {
     "name": "stdout",
     "output_type": "stream",
     "text": [
      "1\n",
      "1\n",
      "2\n",
      "6\n",
      "False\n"
     ]
    }
   ],
   "source": [
    "age_bracket =['a', 'a', 'aannn', 'aaaaaabbbccc'] # count the value of existance of in list\n",
    "for i in age_bracket:\n",
    "    print(int(i.count('a')))\n",
    "print(age_bracket[2].__contains__('b')) # return value that contains in each value of list"
   ]
  },
  {
   "cell_type": "code",
   "execution_count": null,
   "id": "63bc2fdd-67f5-45d9-a209-4a3e91b9b8ff",
   "metadata": {},
   "outputs": [],
   "source": []
  }
 ],
 "metadata": {
  "kernelspec": {
   "display_name": "Python 3",
   "language": "python",
   "name": "python3"
  },
  "language_info": {
   "codemirror_mode": {
    "name": "ipython",
    "version": 3
   },
   "file_extension": ".py",
   "mimetype": "text/x-python",
   "name": "python",
   "nbconvert_exporter": "python",
   "pygments_lexer": "ipython3",
   "version": "3.9.2"
  }
 },
 "nbformat": 4,
 "nbformat_minor": 5
}
