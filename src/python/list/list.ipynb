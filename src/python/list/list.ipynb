{
 "cells": [
  {
   "cell_type": "code",
   "execution_count": null,
   "id": "bfc0c724-5084-4abb-8c31-e0bfdaafbb5d",
   "metadata": {},
   "outputs": [],
   "source": [
    "'''\n",
    "    List is a type of a collection which denote by square bracket ['12', '2', 'apple']\n",
    "    its heteregenous in nature which mean you can add anything in the list either \n",
    "    integer or an string of character. List can be indexed using indexing technique\n",
    "    like `sample_list[0]` or slicing of list `sample_list[2:2]` which will start at \n",
    "    index 2 down to last index.\n",
    "    \n",
    "    Mostly used method of a list was the following 'pop', 'index', 'append', 'remove'\n",
    "    'insert', 'count' and etc.\n",
    "\n",
    "    List can accept also an another list and it can append in the list of structure\n",
    "'''"
   ]
  },
  {
   "cell_type": "code",
   "execution_count": 11,
   "id": "2fdf7f60-019c-4e6b-9b77-9ec0fb5da709",
   "metadata": {},
   "outputs": [
    {
     "name": "stdout",
     "output_type": "stream",
     "text": [
      "[1, 2, 3, 4, 5, 6, 7]\n",
      "['Blue']\n"
     ]
    }
   ],
   "source": [
    "list_first_int =  [1,2,3,4,5,6,7]\n",
    "list_first_string_color = [\"Yellow\", \"Orange\", \"Blue\", \"Red\"]\n",
    "\n",
    "list_first_string_color[-1] = list(list_first_int)\n",
    "print(list_first_string_color[3])\n",
    "print(list_first_string_color[2:3])"
   ]
  },
  {
   "cell_type": "code",
   "execution_count": 23,
   "id": "64862f82-16dc-449e-a567-354cef0349da",
   "metadata": {
    "tags": []
   },
   "outputs": [
    {
     "name": "stdout",
     "output_type": "stream",
     "text": [
      "Odd number [1, 3, 5, 7, 9]\n",
      "Even number [0, 2, 4, 6, 8]\n"
     ]
    }
   ],
   "source": [
    "name = [] # empty list\n",
    "odd = []\n",
    "even = []\n",
    "\n",
    "# Traversing the list using for-loop\n",
    "for i in range(10):\n",
    "    name.append(i) # adding the 10 number into list\n",
    "    if name[i] % 2 == 0: # check the number if even\n",
    "        even.append(i)\n",
    "    elif name[i] % 2 ==1: # check the number if odd\n",
    "        odd.append(i)\n",
    "\n",
    "# Using format method for string formatting\n",
    "print(\"Odd number {}\".format(odd))\n",
    "print(\"Even number {}\".format(even))"
   ]
  },
  {
   "cell_type": "code",
   "execution_count": 80,
   "id": "d3095c66-8216-48bc-8eba-edc896f1d819",
   "metadata": {
    "tags": []
   },
   "outputs": [
    {
     "name": "stdout",
     "output_type": "stream",
     "text": [
      "6\n",
      "[3, 4, 5, 6]\n",
      "[4]\n",
      "[3]\n",
      "6\n",
      "1\n"
     ]
    }
   ],
   "source": [
    "# List Slice\n",
    "\n",
    "#name[:3] # get first  list value from index 0\n",
    "# name[0-first]\n",
    "\n",
    "# get the last value from index -1\n",
    "print(name[-1]) \n",
    "\n",
    "# print all value of list from zero to last nth index\n",
    "print(name[:]) \n",
    "\n",
    "# print the value of list between nth index and last index but last index will be not return\n",
    "print(name[1:2]) \n",
    "\n",
    "# print the value of the list from 0 to hop 3 backward of last nth index\n",
    "print(name[:-3])\n",
    "\n",
    "# Return and remove the last value of the list\n",
    "print(name.pop())\n",
    "\n",
    "# count method use to count how many existence of certain value of the list\n",
    "print(name.count(4)) "
   ]
  },
  {
   "cell_type": "code",
   "execution_count": 29,
   "id": "818eeaab-9540-4acc-837a-e3ab1d62a0bf",
   "metadata": {},
   "outputs": [
    {
     "name": "stdout",
     "output_type": "stream",
     "text": [
      "[1, 2, 3, 4, 5, 8, 10]\n",
      "Print using __len__ method 7\n",
      "Print using len() function 7\n"
     ]
    }
   ],
   "source": [
    "# Sort the List\n",
    "number_list = [1,4,5,2,3,8,10]\n",
    "number_list.sort()\n",
    "print(number_list)\n",
    "\n",
    "# Print the len of the list using two methond `__len__` and len() function\n",
    "print(\"Print using __len__ method {}\".format(number_list.__len__()))\n",
    "print(\"Print using len() function {}\".format(len(number_list)))"
   ]
  },
  {
   "cell_type": "code",
   "execution_count": 52,
   "id": "e082844f-15fe-4ee5-a6d7-ff9a2333eaaf",
   "metadata": {},
   "outputs": [
    {
     "name": "stdout",
     "output_type": "stream",
     "text": [
      "['__add__', '__class__', '__class_getitem__', '__contains__', '__delattr__', '__delitem__', '__dir__', '__doc__', '__eq__', '__format__', '__ge__', '__getattribute__', '__getitem__', '__gt__', '__hash__', '__iadd__', '__imul__', '__init__', '__init_subclass__', '__iter__', '__le__', '__len__', '__lt__', '__mul__', '__ne__', '__new__', '__reduce__', '__reduce_ex__', '__repr__', '__reversed__', '__rmul__', '__setattr__', '__setitem__', '__sizeof__', '__str__', '__subclasshook__', 'append', 'clear', 'copy', 'count', 'extend', 'index', 'insert', 'pop', 'remove', 'reverse', 'sort']\n"
     ]
    }
   ],
   "source": [
    "# List Method and functionality\n",
    "print(dir(name))"
   ]
  },
  {
   "cell_type": "code",
   "execution_count": 24,
   "id": "ab3718ef-cab3-46e4-bc52-6f00d056e81c",
   "metadata": {},
   "outputs": [
    {
     "name": "stdout",
     "output_type": "stream",
     "text": [
      "1\n",
      "1\n",
      "2\n",
      "6\n",
      "True\n"
     ]
    }
   ],
   "source": [
    "age_bracket =['a', 'a', 'aannn', 'aaaaaabbbccc'] # count the value of existance of in list\n",
    "for i in age_bracket:\n",
    "    print(int(i.count('a')))\n",
    "\n",
    "# Return bool of index that contains in list of value\n",
    "print(age_bracket[-1].__contains__('b'))"
   ]
  },
  {
   "cell_type": "code",
   "execution_count": 15,
   "id": "59ab9bcd-6d80-4348-af59-dc81a789dac2",
   "metadata": {},
   "outputs": [
    {
     "ename": "TypeError",
     "evalue": "'list' object cannot be interpreted as an integer",
     "output_type": "error",
     "traceback": [
      "\u001b[0;31m---------------------------------------------------------------------------\u001b[0m",
      "\u001b[0;31mTypeError\u001b[0m                                 Traceback (most recent call last)",
      "\u001b[0;32m<ipython-input-15-d37d9ae4915c>\u001b[0m in \u001b[0;36m<module>\u001b[0;34m\u001b[0m\n\u001b[1;32m      6\u001b[0m \u001b[0mtotal_sum\u001b[0m \u001b[0;34m=\u001b[0m \u001b[0;36m0\u001b[0m\u001b[0;34m\u001b[0m\u001b[0;34m\u001b[0m\u001b[0m\n\u001b[1;32m      7\u001b[0m \u001b[0ml\u001b[0m \u001b[0;34m=\u001b[0m \u001b[0;34m[\u001b[0m\u001b[0;34m[\u001b[0m\u001b[0mx\u001b[0m\u001b[0;34m,\u001b[0m\u001b[0my\u001b[0m\u001b[0;34m,\u001b[0m\u001b[0mz\u001b[0m\u001b[0;34m]\u001b[0m \u001b[0;32mfor\u001b[0m \u001b[0mx\u001b[0m \u001b[0;32min\u001b[0m \u001b[0;34m(\u001b[0m\u001b[0;36m1\u001b[0m\u001b[0;34m,\u001b[0m\u001b[0;36m1\u001b[0m\u001b[0;34m,\u001b[0m\u001b[0;36m1\u001b[0m\u001b[0;34m)\u001b[0m \u001b[0;32mfor\u001b[0m \u001b[0my\u001b[0m \u001b[0;32min\u001b[0m \u001b[0;34m(\u001b[0m\u001b[0;36m2\u001b[0m\u001b[0;34m,\u001b[0m\u001b[0;36m1\u001b[0m\u001b[0;34m,\u001b[0m\u001b[0;36m1\u001b[0m\u001b[0;34m)\u001b[0m \u001b[0;32mfor\u001b[0m \u001b[0mz\u001b[0m \u001b[0;32min\u001b[0m \u001b[0;34m(\u001b[0m\u001b[0;36m2\u001b[0m\u001b[0;34m,\u001b[0m\u001b[0;36m2\u001b[0m\u001b[0;34m,\u001b[0m\u001b[0;36m2\u001b[0m\u001b[0;34m)\u001b[0m\u001b[0;34m]\u001b[0m\u001b[0;34m\u001b[0m\u001b[0;34m\u001b[0m\u001b[0m\n\u001b[0;32m----> 8\u001b[0;31m \u001b[0;32mfor\u001b[0m \u001b[0mi\u001b[0m \u001b[0;32min\u001b[0m \u001b[0mrange\u001b[0m\u001b[0;34m(\u001b[0m\u001b[0ml\u001b[0m\u001b[0;34m)\u001b[0m\u001b[0;34m:\u001b[0m\u001b[0;34m\u001b[0m\u001b[0;34m\u001b[0m\u001b[0m\n\u001b[0m\u001b[1;32m      9\u001b[0m     \u001b[0mprint\u001b[0m\u001b[0;34m(\u001b[0m\u001b[0mi\u001b[0m\u001b[0;34m)\u001b[0m\u001b[0;34m\u001b[0m\u001b[0;34m\u001b[0m\u001b[0m\n",
      "\u001b[0;31mTypeError\u001b[0m: 'list' object cannot be interpreted as an integer"
     ]
    }
   ],
   "source": [
    "\"\"\"\n",
    "    List Comprhensions is an pythonic way of creation of list in a certain statement \n",
    "    that follow and order in this magnitude  \n",
    "    ( values = [expression for values in collection ])\n",
    "\"\"\"\n",
    "total_sum = 0\n",
    "l = [[x,y,z] for x in (1,1,1) for y in (2,1,1) for z in (2,2,2)]\n",
    "for i in range(l):\n",
    "    print(i)"
   ]
  },
  {
   "cell_type": "code",
   "execution_count": null,
   "id": "f407b825-37fa-44dc-b362-12cb72764cbb",
   "metadata": {},
   "outputs": [],
   "source": []
  }
 ],
 "metadata": {
  "kernelspec": {
   "display_name": "Python 3",
   "language": "python",
   "name": "python3"
  },
  "language_info": {
   "codemirror_mode": {
    "name": "ipython",
    "version": 3
   },
   "file_extension": ".py",
   "mimetype": "text/x-python",
   "name": "python",
   "nbconvert_exporter": "python",
   "pygments_lexer": "ipython3",
   "version": "3.9.3"
  }
 },
 "nbformat": 4,
 "nbformat_minor": 5
}
