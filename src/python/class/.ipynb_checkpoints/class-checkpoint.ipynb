{
 "cells": [
  {
   "cell_type": "code",
   "execution_count": null,
   "id": "77653a8a-d1b2-4920-89aa-26eceb064f7f",
   "metadata": {},
   "outputs": [],
   "source": [
    "\"\"\"\n",
    "    Class is an Object Oriented Paradigm for python its takes standard class name of object\n",
    "    \n",
    "\"\"\""
   ]
  },
  {
   "cell_type": "code",
   "execution_count": 77,
   "id": "6d05abd0-9bb8-40b1-9118-18866410d15f",
   "metadata": {},
   "outputs": [],
   "source": [
    "class Person(object):\n",
    "    \n",
    "    \n",
    "    def __init__(self, name):\n",
    "        self._name = name\n",
    "    \n",
    "    @property\n",
    "    def get_name(self):\n",
    "        return self._name\n",
    "    \n",
    "    @get_name.setter\n",
    "    def get_name(self, name):\n",
    "        self._name = name\n",
    "        return \"This is getters {0}\".format(self._name)\n",
    "    \n",
    "    \n",
    "    def __len__(self):\n",
    "        return len(int(self.name))\n",
    "    \n",
    "    def print_name(self, name):\n",
    "        self.name = name\n",
    "        # self.name = name # always instantiate the attributes of the class or use __init__ method \n",
    "        print(\"My Name was {0}\".format(self.name))\n",
    "        \n",
    "    def name_upper_case(self):\n",
    "        print(self.name.upper())\n",
    "    \n",
    "    def name_lower_case(self):\n",
    "         # accessing this local variable to another attribute is illegal and will through \"not define error\"\n",
    "        # print(self.another_name)\n",
    "        print(self.name.lower())\n",
    "    \n",
    "    def get_method_in_class(self, another_name): # you can declare another attribute but accessing is localy \n",
    "        self.print_name(another_name)\n",
    "        print(\"Another name was {0}\". format(another_name))\n",
    "        \n",
    "class Students(Person):\n",
    "    \n",
    "    def get_method_in_class(self, age):\n",
    "        self.age = int(age)\n",
    "        print(\"The age of this person was {0}\".format(self.age))"
   ]
  },
  {
   "cell_type": "code",
   "execution_count": 78,
   "id": "062d2a7d-0e2d-4533-8506-02365957e79c",
   "metadata": {},
   "outputs": [
    {
     "ename": "TypeError",
     "evalue": "'str' object is not callable",
     "output_type": "error",
     "traceback": [
      "\u001b[0;31m---------------------------------------------------------------------------\u001b[0m",
      "\u001b[0;31mTypeError\u001b[0m                                 Traceback (most recent call last)",
      "\u001b[0;32m<ipython-input-78-ccc871654c6a>\u001b[0m in \u001b[0;36m<module>\u001b[0;34m\u001b[0m\n\u001b[1;32m      1\u001b[0m \u001b[0mperson\u001b[0m \u001b[0;34m=\u001b[0m \u001b[0mPerson\u001b[0m\u001b[0;34m(\u001b[0m\u001b[0;34m\"Heljhum\"\u001b[0m\u001b[0;34m)\u001b[0m\u001b[0;34m\u001b[0m\u001b[0;34m\u001b[0m\u001b[0m\n\u001b[0;32m----> 2\u001b[0;31m \u001b[0mperson\u001b[0m\u001b[0;34m.\u001b[0m\u001b[0mget_name\u001b[0m\u001b[0;34m(\u001b[0m\u001b[0;34m\"Heljhum Enad\"\u001b[0m\u001b[0;34m)\u001b[0m\u001b[0;34m\u001b[0m\u001b[0;34m\u001b[0m\u001b[0m\n\u001b[0m\u001b[1;32m      3\u001b[0m \u001b[0mstudents\u001b[0m \u001b[0;34m=\u001b[0m \u001b[0mStudents\u001b[0m\u001b[0;34m(\u001b[0m\u001b[0;34m\"Enad\"\u001b[0m\u001b[0;34m)\u001b[0m\u001b[0;34m\u001b[0m\u001b[0;34m\u001b[0m\u001b[0m\n\u001b[1;32m      4\u001b[0m \u001b[0mstudents\u001b[0m\u001b[0;34m.\u001b[0m\u001b[0mprint_name\u001b[0m\u001b[0;34m(\u001b[0m\u001b[0;34m\"Heljhum\"\u001b[0m\u001b[0;34m)\u001b[0m\u001b[0;34m\u001b[0m\u001b[0;34m\u001b[0m\u001b[0m\n\u001b[1;32m      5\u001b[0m \u001b[0;34m\u001b[0m\u001b[0m\n",
      "\u001b[0;31mTypeError\u001b[0m: 'str' object is not callable"
     ]
    }
   ],
   "source": [
    "person = Person(\"Heljhum\")\n",
    "person.get_name(\"Heljhum Enad\")\n",
    "students = Students(\"Enad\")\n",
    "students.print_name(\"Heljhum\")\n",
    "\n",
    "students.get_method_in_class(2)\n",
    "person.print_name(\"Jencill\")\n",
    "person.name_upper_case()\n",
    "person.name_lower_case()\n",
    "person.get_method_in_class(\"Jencill\")"
   ]
  },
  {
   "cell_type": "code",
   "execution_count": 79,
   "id": "5c375432-be5d-43b6-9ceb-8756da0a96d2",
   "metadata": {},
   "outputs": [
    {
     "name": "stdout",
     "output_type": "stream",
     "text": [
      "Company name is : Amazon\n",
      "=========================\n",
      "Company name is : Google\n"
     ]
    },
    {
     "ename": "AttributeError",
     "evalue": "'Employee' object has no attribute '__company'",
     "output_type": "error",
     "traceback": [
      "\u001b[0;31m---------------------------------------------------------------------------\u001b[0m",
      "\u001b[0;31mAttributeError\u001b[0m                            Traceback (most recent call last)",
      "\u001b[0;32m<ipython-input-79-322e457f2da5>\u001b[0m in \u001b[0;36m<module>\u001b[0;34m\u001b[0m\n\u001b[1;32m     23\u001b[0m \u001b[0;34m\u001b[0m\u001b[0m\n\u001b[1;32m     24\u001b[0m \u001b[0;31m# Trying to access private attributes directly.\u001b[0m\u001b[0;34m\u001b[0m\u001b[0;34m\u001b[0m\u001b[0;34m\u001b[0m\u001b[0m\n\u001b[0;32m---> 25\u001b[0;31m \u001b[0mprint\u001b[0m\u001b[0;34m(\u001b[0m\u001b[0me\u001b[0m\u001b[0;34m.\u001b[0m\u001b[0m__company\u001b[0m\u001b[0;34m)\u001b[0m\u001b[0;34m\u001b[0m\u001b[0;34m\u001b[0m\u001b[0m\n\u001b[0m",
      "\u001b[0;31mAttributeError\u001b[0m: 'Employee' object has no attribute '__company'"
     ]
    }
   ],
   "source": [
    "# Implementing setters and getters\n",
    "class Employee:\n",
    "    \n",
    "    def __init__(self, name, company, retired = 'NO'): \n",
    "        self._name=name\n",
    "        self.__company = company # __ denotes as a private attribute\n",
    "        self.__retired = retired\n",
    "\n",
    "    # company getter method \n",
    "    def getCompany(self): \n",
    "        return self.__company \n",
    "\n",
    "    # company setter method \n",
    "    def setCompany(self,value): \n",
    "        self.__company = value\n",
    "        \n",
    "e=Employee('Pranay','Amazon')\n",
    "print(\"Company name is :\", e.getCompany())\n",
    "\n",
    "print(\"=\" * 25)\n",
    "e.setCompany('Google')\n",
    "print(\"Company name is :\", e.getCompany())\n",
    "\n",
    "# Trying to access private attributes directly.\n",
    "print(e.__company)\n"
   ]
  },
  {
   "cell_type": "code",
   "execution_count": 80,
   "id": "61add661-4714-4e8b-8f64-5448bbb88afe",
   "metadata": {},
   "outputs": [
    {
     "name": "stdout",
     "output_type": "stream",
     "text": [
      "@property class method called\n",
      "Company name is : Amazon\n",
      "===================================\n",
      "@company.setter class method called\n",
      "@property class method called\n",
      "Company name is : Google\n",
      "===================================\n",
      "Company name is : Microsoft\n"
     ]
    }
   ],
   "source": [
    "# Implementing setters and getters using @propery decorator\n",
    "class Employee:\n",
    "    \n",
    "    def __init__(self, name, company, retired = 'NO'): \n",
    "        self._name=name\n",
    "        self.__company = company # __ denotes as a private attribute\n",
    "        self.__retired = retired\n",
    "\n",
    "    @property \n",
    "    def company(self):\n",
    "        print(\"@property class method called\")\n",
    "        return self.__company \n",
    "\n",
    "    @company.setter\n",
    "    def company(self,value):\n",
    "        print(\"@company.setter class method called\")\n",
    "        self.__company = value\n",
    "\n",
    "        \n",
    "e=Employee('Pranay','Amazon')\n",
    "print(\"Company name is :\", e.company)\n",
    "print(\"=\"* 35)\n",
    "e.company='Google'\n",
    "print(\"Company name is :\", e.company)\n",
    "print(\"=\"* 35)\n",
    "Employee.company='Microsoft' # set the value by calling the propery method using class name\n",
    "print(\"Company name is :\", Employee.company)\n"
   ]
  },
  {
   "cell_type": "code",
   "execution_count": null,
   "id": "cd55f38f-d3bf-4e88-8798-f8c343daa300",
   "metadata": {},
   "outputs": [],
   "source": []
  }
 ],
 "metadata": {
  "kernelspec": {
   "display_name": "Python 3",
   "language": "python",
   "name": "python3"
  },
  "language_info": {
   "codemirror_mode": {
    "name": "ipython",
    "version": 3
   },
   "file_extension": ".py",
   "mimetype": "text/x-python",
   "name": "python",
   "nbconvert_exporter": "python",
   "pygments_lexer": "ipython3",
   "version": "3.9.4"
  }
 },
 "nbformat": 4,
 "nbformat_minor": 5
}
